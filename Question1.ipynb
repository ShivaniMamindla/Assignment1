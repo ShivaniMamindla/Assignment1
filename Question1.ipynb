{
 "cells": [
  {
   "cell_type": "code",
   "execution_count": 13,
   "metadata": {},
   "outputs": [
    {
     "name": "stdout",
     "output_type": "stream",
     "text": [
      "[19, 19, 20, 22, 24, 24, 24, 25, 25, 26]\n",
      "19\n",
      "26\n",
      "10\n",
      "24.0\n",
      "228\n",
      "7\n"
     ]
    }
   ],
   "source": [
    "#Question1\n",
    "\n",
    "ages = [19, 22, 19, 24, 20, 25, 26, 24, 25, 24] #Given List\n",
    "ages.sort()  #Sort is the method used to sort the given list of numbers in ascending order\n",
    "print(ages) #this will print the sorted list\n",
    "print(min(ages)) #this will print the min number after sorting\n",
    "print(max(ages)) #this will print the max number after sorting\n",
    "print(len(ages)) #this function will print the length of the string\n",
    "if len(ages) % 2 != 0:\n",
    "        # total number of values are odd\n",
    "        # subtract 1 since indexing starts at 0\n",
    "       m = int((len(ages)+1)/2 - 1)\n",
    "       print(ages[m])\n",
    "else:\n",
    "        m1 = int(len(ages)/2 - 1)\n",
    "        m2 = int(len(ages)/2)\n",
    "        print((ages[m1]+ages[m2])/2)\n",
    "\n",
    "print(sum(ages))\n",
    "range = ((max(ages))-(min(ages)))\n",
    "print(range)\n",
    "\n"
   ]
  }
 ],
 "metadata": {
  "kernelspec": {
   "display_name": "Python 3.9.12 ('base')",
   "language": "python",
   "name": "python3"
  },
  "language_info": {
   "codemirror_mode": {
    "name": "ipython",
    "version": 3
   },
   "file_extension": ".py",
   "mimetype": "text/x-python",
   "name": "python",
   "nbconvert_exporter": "python",
   "pygments_lexer": "ipython3",
   "version": "3.9.12"
  },
  "orig_nbformat": 4,
  "vscode": {
   "interpreter": {
    "hash": "ad2bdc8ecc057115af97d19610ffacc2b4e99fae6737bb82f5d7fb13d2f2c186"
   }
  }
 },
 "nbformat": 4,
 "nbformat_minor": 2
}
