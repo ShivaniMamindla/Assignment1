{
 "cells": [
  {
   "cell_type": "code",
   "execution_count": 18,
   "metadata": {},
   "outputs": [
    {
     "name": "stdout",
     "output_type": "stream",
     "text": [
      "Enter weight in pounds\n",
      "Weights of students in pounds are [125.0, 145.0, 155.0]\n",
      "weights of students in Kg's are [56.699, 65.77083999999999, 70.30676]\n"
     ]
    }
   ],
   "source": [
    "# creating an empty list\n",
    "w_pounds = []\n",
    "  \n",
    "# number of elements as input\n",
    "n = int(input(\"Enter the no of the students: \"))\n",
    "  \n",
    "# iterating till the range\n",
    "print(\"Enter weight in pounds\")\n",
    "for i in range(0, n):\n",
    "    #print(\"Enter weight in pounds\")\n",
    "    weights = float(input())\n",
    "  \n",
    "    w_pounds.append(weights) # adding the element\n",
    "      \n",
    "print(\"Weights of students in pounds are\", w_pounds)\n",
    "\n",
    "#1 lb = 0.453592 Kg\n",
    "w_kg = []\n",
    "\n",
    "for i in range(0, n):\n",
    "    w = w_pounds[i]*(0.453592)\n",
    "    w_kg.append(w)\n",
    "\n",
    "\n",
    "print(\"weights of students in Kg's are\", w_kg)\n",
    "    \n",
    "\n",
    "     \n",
    "\n",
    "\n"
   ]
  }
 ],
 "metadata": {
  "kernelspec": {
   "display_name": "Python 3.10.5 64-bit",
   "language": "python",
   "name": "python3"
  },
  "language_info": {
   "codemirror_mode": {
    "name": "ipython",
    "version": 3
   },
   "file_extension": ".py",
   "mimetype": "text/x-python",
   "name": "python",
   "nbconvert_exporter": "python",
   "pygments_lexer": "ipython3",
   "version": "3.10.5"
  },
  "orig_nbformat": 4,
  "vscode": {
   "interpreter": {
    "hash": "abe87da4cd1378567be4c016a28d19d8ca5c347334a3e441b2b5513972b6c8a7"
   }
  }
 },
 "nbformat": 4,
 "nbformat_minor": 2
}
