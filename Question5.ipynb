{
 "cells": [
  {
   "cell_type": "code",
   "execution_count": 6,
   "metadata": {},
   "outputs": [
    {
     "name": "stdout",
     "output_type": "stream",
     "text": [
      "Area of the circle is:  2826.0\n",
      "Circumference of the circle is:  188.4\n",
      "Area of the circle is:  2826.0\n"
     ]
    }
   ],
   "source": [
    "radius = 30\n",
    "#Pi=3.14\n",
    "area_of_circle = 3.14*radius*radius\n",
    "print(\"Area of the circle is: \", area_of_circle)\n",
    "\n",
    "circum_of_circle = 2*3.14*radius\n",
    "print(\"Circumference of the circle is: \", circum_of_circle)\n",
    "\n",
    "\n",
    "r = float(input(\"Enter the radius: \"))\n",
    "A_o_C = 3.14*r*r\n",
    "print(\"Area of the circle is: \", A_o_C)\n",
    "\n",
    "\n",
    "\n",
    "\n"
   ]
  }
 ],
 "metadata": {
  "kernelspec": {
   "display_name": "Python 3.10.5 64-bit",
   "language": "python",
   "name": "python3"
  },
  "language_info": {
   "codemirror_mode": {
    "name": "ipython",
    "version": 3
   },
   "file_extension": ".py",
   "mimetype": "text/x-python",
   "name": "python",
   "nbconvert_exporter": "python",
   "pygments_lexer": "ipython3",
   "version": "3.10.5"
  },
  "orig_nbformat": 4,
  "vscode": {
   "interpreter": {
    "hash": "abe87da4cd1378567be4c016a28d19d8ca5c347334a3e441b2b5513972b6c8a7"
   }
  }
 },
 "nbformat": 4,
 "nbformat_minor": 2
}
