{
 "cells": [
  {
   "cell_type": "code",
   "execution_count": 24,
   "metadata": {},
   "outputs": [
    {
     "name": "stdout",
     "output_type": "stream",
     "text": [
      "Length of the it_companies: 7\n",
      "{'Google', 'Facebook', 'Apple', 'Amazon', 'IBM', 'Microsoft', 'Twitter', 'Oracle'}\n",
      "{'Google', 'Twitter', 'Facebook', 'Amazon', 'Microsoft', 'Oracle', 'Capgemini', 'IBM', 'Apple', 'TCS', 'Cognizant'}\n",
      "{'Google', 'Twitter', 'Facebook', 'Amazon', 'Microsoft', 'Oracle', 'Capgemini', 'IBM', 'Apple', 'Cognizant'}\n",
      "Join A and B {19, 20, 22, 24, 25, 26, 27, 28}\n",
      "Intersection of A and B {19, 20, 22, 24, 25, 26}\n",
      "Is A subset of B:  True\n",
      "Is A and B disjoint sets? :  False\n",
      "Join A with B {19, 20, 22, 24, 25, 26, 27, 28}\n",
      "Join B with A {19, 20, 22, 24, 25, 26, 27, 28}\n",
      "The symmetric difference between A and B is= {27, 28}\n",
      "set()\n",
      "set()\n",
      "{19, 22, 24, 25, 26}\n",
      "Length of ages list is:  8\n",
      "Lenght of ages set is:  5\n"
     ]
    }
   ],
   "source": [
    "it_companies = {'Facebook', 'Google', 'Microsoft', 'Apple', 'IBM', 'Oracle', 'Amazon'}\n",
    "A = {19, 22, 24, 20, 25, 26}\n",
    "B = {19, 22, 20, 25, 26, 24, 28, 27}\n",
    "age = [22, 19, 24, 25, 26, 24, 25, 24]\n",
    "\n",
    "print(\"Length of the it_companies:\",len(it_companies))\n",
    "\n",
    "it_companies.add('Twitter') #adding another element to the set\n",
    "print(it_companies)\n",
    "\n",
    "add_comp = ('Capgemini','Cognizant','TCS') #creating a set with multiple companies\n",
    "it_companies.update(add_comp) #appending the multiple set to the it_companies\n",
    "print(it_companies)\n",
    "\n",
    "it_companies.remove('TCS') #deleting an element\n",
    "print(it_companies)\n",
    "\n",
    "#both remove() and discard() methods will delete and element from the set if the element is present in the set, but if the element is \n",
    "# not present in the set, remove() method will throw an error, while the discard() method doesn't.\n",
    "\n",
    "\n",
    "print(\"Join A and B\", A.union(B)) #joining A and B\n",
    "\n",
    "print(\"Intersection of A and B\", A.intersection(B)) #finding intersectionof the sets\n",
    "\n",
    "print(\"Is A subset of B: \", A.issubset(B)) #finding if A is subset of the B\n",
    "\n",
    "print(\"Is A and B disjoint sets? : \", A.isdisjoint(B))\n",
    "\n",
    "\n",
    "print(\"Join A with B\", A.union(B))\n",
    "print(\"Join B with A\", B.union(A))\n",
    "\n",
    "\n",
    "print('The symmetric difference between A and B is=', A.symmetric_difference(B))\n",
    "\n",
    "\n",
    "A.clear()\n",
    "print(A)\n",
    "B.clear()\n",
    "print(B)\n",
    "\n",
    "# sample_list is defined list\n",
    "#age = [22, 19, 24, 25, 26, 24, 25, 24]\n",
    "\n",
    "# set() to convert list to set\n",
    "age_set = set() # defining set\n",
    "#using for loop\n",
    "for i in age:\n",
    "    #adding i to b\n",
    "    age_set.add(i)\n",
    "print(age_set)\n",
    "print(\"Length of ages list is: \", len(age))\n",
    "print(\"Lenght of ages set is: \", len(age_set))\n",
    "\n",
    "\n",
    "\n"
   ]
  }
 ],
 "metadata": {
  "kernelspec": {
   "display_name": "Python 3.10.5 64-bit",
   "language": "python",
   "name": "python3"
  },
  "language_info": {
   "codemirror_mode": {
    "name": "ipython",
    "version": 3
   },
   "file_extension": ".py",
   "mimetype": "text/x-python",
   "name": "python",
   "nbconvert_exporter": "python",
   "pygments_lexer": "ipython3",
   "version": "3.10.5"
  },
  "orig_nbformat": 4,
  "vscode": {
   "interpreter": {
    "hash": "abe87da4cd1378567be4c016a28d19d8ca5c347334a3e441b2b5513972b6c8a7"
   }
  }
 },
 "nbformat": 4,
 "nbformat_minor": 2
}
