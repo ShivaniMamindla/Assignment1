{
 "cells": [
  {
   "cell_type": "code",
   "execution_count": 13,
   "metadata": {},
   "outputs": [
    {
     "name": "stdout",
     "output_type": "stream",
     "text": [
      "Lenghth of the student dictionary is:  9\n",
      "Skills list is:  ['JavaScript', 'React', 'Node', 'MongoDB', 'Python']\n",
      "The datatype of the skills is:  <class 'list'>\n",
      "Student dictionary after appending another skill:  ['JavaScript', 'React', 'Node', 'MongoDB', 'Python', 'HTML']\n",
      "Student dictionary keys are:  dict_keys(['first_name', 'last_name', 'gender', 'age', 'marital_status', 'skills', 'country', 'city', 'address'])\n",
      "Student dictionary values are:  dict_values(['SaiShivani', 'Mamindla', 'Female', '24', 'single', ['JavaScript', 'React', 'Node', 'MongoDB', 'Python', 'HTML'], 'India', 'Hyderabad', 'Overland Park'])\n"
     ]
    }
   ],
   "source": [
    "#Question2\n",
    "\n",
    "#Creating an empty dictionary dog{}\n",
    "dog = {}\n",
    "#assigning keys and values to the dog dictionary\n",
    "dog = {'name':'Crissy', 'color':'Cream', 'breed':'Shih tzu', 'legs':'4', 'age':'5'}\n",
    "\n",
    "#creating a student dictionary\n",
    "student_dict = {}\n",
    "#adding keys and values to the student dictionary\n",
    "student_dict = {'first_name':'SaiShivani', \n",
    "                'last_name':'Mamindla', \n",
    "                'gender':'Female',\n",
    "                'age':'24',\n",
    "                'marital_status':'single',\n",
    "                'skills':['JavaScript', 'React', 'Node', 'MongoDB', 'Python'],\n",
    "                'country':'India',\n",
    "                'city':'Hyderabad',\n",
    "                'address':'Overland Park'}\n",
    "\n",
    "#It give the lenghth of the student dictionary               \n",
    "print(\"Lenghth of the student dictionary is: \", len(student_dict))\n",
    "#It prints the value for key \"skills\"\n",
    "print(\"Skills list is: \", student_dict['skills'])\n",
    "#It prints the datatype of the key \"skills\"\n",
    "print(\"The datatype of the skills is: \", type(['skills']))\n",
    "\n",
    "#appending another value to the list of key: \"Skills\"\n",
    "student_dict['skills'].append('HTML')\n",
    "print(\"Student dictionary after appending another skill: \", student_dict['skills'])\n",
    "\n",
    "#printing the keys and values of the student dictionary\n",
    "print(\"Student dictionary keys are: \", student_dict.keys())\n",
    "print(\"Student dictionary values are: \", student_dict.values())"
   ]
  }
 ],
 "metadata": {
  "kernelspec": {
   "display_name": "Python 3.10.5 64-bit",
   "language": "python",
   "name": "python3"
  },
  "language_info": {
   "codemirror_mode": {
    "name": "ipython",
    "version": 3
   },
   "file_extension": ".py",
   "mimetype": "text/x-python",
   "name": "python",
   "nbconvert_exporter": "python",
   "pygments_lexer": "ipython3",
   "version": "3.10.5"
  },
  "orig_nbformat": 4,
  "vscode": {
   "interpreter": {
    "hash": "abe87da4cd1378567be4c016a28d19d8ca5c347334a3e441b2b5513972b6c8a7"
   }
  }
 },
 "nbformat": 4,
 "nbformat_minor": 2
}
