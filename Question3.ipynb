{
 "cells": [
  {
   "cell_type": "code",
   "execution_count": 13,
   "metadata": {},
   "outputs": [
    {
     "name": "stdout",
     "output_type": "stream",
     "text": [
      "Tuples are: ('Teja', 'Vishu') ('Bhavani', 'Leema', 'supriya')\n",
      "Tuple after Joining:  ('Teja', 'Vishu', 'Bhavani', 'Leema', 'supriya')\n",
      "Length of the sibling tuple: 5\n",
      "Faimily Members:  ('Teja', 'Vishu', 'Bhavani', 'Leema', 'supriya', 'Madhukar', 'SaiLatha')\n"
     ]
    }
   ],
   "source": [
    "\n",
    "#creating the touples brothers and sisters\n",
    "brothers = ('Teja', 'Vishu')\n",
    "sisters = ('Bhavani', 'Leema','supriya')\n",
    "print(\"Tuples are:\", brothers, sisters)\n",
    "\n",
    "#Joining the tuples  brothers and sisters\n",
    "Siblings = brothers + sisters\n",
    "#printing the tuple after joining \n",
    "print(\"Tuple after Joining: \", Siblings)\n",
    "print(\"Length of the sibling tuple:\", len(Siblings))\n",
    "\n",
    "#modifying the siblings tuple by adding mother and father name\n",
    "Siblings = Siblings + ('Madhukar', 'SaiLatha')\n",
    "family_members = Siblings #assigning the mosifies tuple to the family_members list\n",
    "\n",
    "#family_members = Siblings + ('Madhukar', 'SaiLatha')\n",
    "\n",
    "print(\"Faimily Members: \",family_members)"
   ]
  }
 ],
 "metadata": {
  "kernelspec": {
   "display_name": "Python 3.10.5 64-bit",
   "language": "python",
   "name": "python3"
  },
  "language_info": {
   "codemirror_mode": {
    "name": "ipython",
    "version": 3
   },
   "file_extension": ".py",
   "mimetype": "text/x-python",
   "name": "python",
   "nbconvert_exporter": "python",
   "pygments_lexer": "ipython3",
   "version": "3.10.5"
  },
  "orig_nbformat": 4,
  "vscode": {
   "interpreter": {
    "hash": "abe87da4cd1378567be4c016a28d19d8ca5c347334a3e441b2b5513972b6c8a7"
   }
  }
 },
 "nbformat": 4,
 "nbformat_minor": 2
}
