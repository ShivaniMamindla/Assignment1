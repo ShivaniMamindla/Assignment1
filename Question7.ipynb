{
 "cells": [
  {
   "cell_type": "code",
   "execution_count": 4,
   "metadata": {},
   "outputs": [
    {
     "name": "stdout",
     "output_type": "stream",
     "text": [
      "Name\t\tAge\tCountry\t\tCity\n",
      "Asabeneh\t250\tFinland\t\tHelsinki\n"
     ]
    }
   ],
   "source": [
    "Seq = \"Name\\t\\tAge\\tCountry\\t\\tCity\\nAsabeneh\\t250\\tFinland\\t\\tHelsinki\"   #\\t is used for tabspace and \\n is used for next line\n",
    "print(Seq)"
   ]
  }
 ],
 "metadata": {
  "kernelspec": {
   "display_name": "Python 3.10.5 64-bit",
   "language": "python",
   "name": "python3"
  },
  "language_info": {
   "codemirror_mode": {
    "name": "ipython",
    "version": 3
   },
   "file_extension": ".py",
   "mimetype": "text/x-python",
   "name": "python",
   "nbconvert_exporter": "python",
   "pygments_lexer": "ipython3",
   "version": "3.10.5"
  },
  "orig_nbformat": 4,
  "vscode": {
   "interpreter": {
    "hash": "abe87da4cd1378567be4c016a28d19d8ca5c347334a3e441b2b5513972b6c8a7"
   }
  }
 },
 "nbformat": 4,
 "nbformat_minor": 2
}
