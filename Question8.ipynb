{
 "cells": [
  {
   "cell_type": "code",
   "execution_count": 2,
   "metadata": {},
   "outputs": [
    {
     "name": "stdout",
     "output_type": "stream",
     "text": [
      "String after formatting: The area of a circle with radius 10 is 314.0 meters square.\n"
     ]
    }
   ],
   "source": [
    "\n",
    "#given values\n",
    "radius=10\n",
    "area=3.14*radius*radius\n",
    "\n",
    "String = \"The area of a circle with radius {} is {} meters square.\" #using {} string formatting\n",
    "print(\"String after formatting:\", String.format(radius,area))"
   ]
  },
  {
   "cell_type": "code",
   "execution_count": null,
   "metadata": {},
   "outputs": [],
   "source": []
  }
 ],
 "metadata": {
  "kernelspec": {
   "display_name": "Python 3.10.5 64-bit",
   "language": "python",
   "name": "python3"
  },
  "language_info": {
   "codemirror_mode": {
    "name": "ipython",
    "version": 3
   },
   "file_extension": ".py",
   "mimetype": "text/x-python",
   "name": "python",
   "nbconvert_exporter": "python",
   "pygments_lexer": "ipython3",
   "version": "3.10.5"
  },
  "orig_nbformat": 4,
  "vscode": {
   "interpreter": {
    "hash": "abe87da4cd1378567be4c016a28d19d8ca5c347334a3e441b2b5513972b6c8a7"
   }
  }
 },
 "nbformat": 4,
 "nbformat_minor": 2
}
